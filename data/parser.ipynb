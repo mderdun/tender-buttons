{
 "cells": [
  {
   "cell_type": "code",
   "execution_count": 2,
   "id": "initial_id",
   "metadata": {
    "collapsed": true,
    "ExecuteTime": {
     "end_time": "2024-03-30T15:31:32.952900Z",
     "start_time": "2024-03-30T15:31:32.937803Z"
    }
   },
   "outputs": [],
   "source": [
    "import pandas as pd\n",
    "import csv\n",
    "import os"
   ]
  },
  {
   "cell_type": "code",
   "outputs": [],
   "source": [
    "# Read in the data\n",
    "with open(\"text-variants/01 Objects.txt\", \"r\") as file:\n",
    "    objects = file.readlines()\n",
    "\n",
    "with open(\"text-variants/02 Food.txt\", \"r\") as file:\n",
    "    food = file.readlines()\n",
    "\n",
    "with open(\"text-variants/03 Rooms.txt\", \"r\") as file:\n",
    "    rooms = file.readlines()"
   ],
   "metadata": {
    "collapsed": false,
    "ExecuteTime": {
     "end_time": "2024-03-30T16:13:18.980850Z",
     "start_time": "2024-03-30T16:13:18.968454Z"
    }
   },
   "id": "c1a289ad0303d3e",
   "execution_count": 24
  },
  {
   "cell_type": "code",
   "outputs": [],
   "source": [
    "# Prepare dataframe for transforming txt files into csv\n",
    "df = pd.DataFrame(columns=[\"category\", \"title\", \"portrait\"])"
   ],
   "metadata": {
    "collapsed": false,
    "ExecuteTime": {
     "end_time": "2024-03-30T20:30:52.469853Z",
     "start_time": "2024-03-30T20:30:52.465386Z"
    }
   },
   "id": "38c8b832a616698d",
   "execution_count": 55
  },
  {
   "cell_type": "code",
   "outputs": [],
   "source": [
    "# Read txts, and format into dataframe. Categories are objects, food, and rooms. Titles appear in the txts as lines in all caps. Portraits are the lines that follow the titles. Combine portrait lines into one string per title.\n",
    "def read_txt(txt, category):\n",
    "    title = \"\"\n",
    "    portrait = \"\"\n",
    "    title_counts = {}\n",
    "    for line in txt:\n",
    "        line = line.strip()\n",
    "        if line.isupper():\n",
    "            if title != \"\":\n",
    "                df.loc[len(df)] = [category, title, portrait]\n",
    "            title = line\n",
    "            if title in title_counts:\n",
    "                title_counts[title] += 1\n",
    "                title = f\"{title} [{title_counts[title]}]\"\n",
    "            else:\n",
    "                title_counts[title] = 1\n",
    "            portrait = \"\"\n",
    "        else:\n",
    "            if portrait != \"\":\n",
    "                portrait += \"\\n\"\n",
    "            portrait += line\n",
    "    if title != \"\":\n",
    "        df.loc[len(df)] = [category, title, portrait]\n",
    "            \n",
    "read_txt(objects, \"objects\")\n",
    "read_txt(food, \"food\")\n",
    "read_txt(rooms, \"rooms\")"
   ],
   "metadata": {
    "collapsed": false,
    "ExecuteTime": {
     "end_time": "2024-03-30T20:30:53.061192Z",
     "start_time": "2024-03-30T20:30:53.007956Z"
    }
   },
   "id": "c0efffcdb3fd8946",
   "execution_count": 56
  },
  {
   "cell_type": "code",
   "outputs": [
    {
     "data": {
      "text/plain": "    category                                 title  \\\n0    objects      A CARAFE, THAT IS A BLIND GLASS.   \n1    objects                       GLAZED GLITTER.   \n2    objects             A SUBSTANCE IN A CUSHION.   \n3    objects                                A BOX.   \n4    objects                    A PIECE OF COFFEE.   \n..       ...                                   ...   \n105     food                            ORANGE IN.   \n106     food      SALAD DRESSING AND AN ARTICHOKE.   \n107     food  SALAD DRESSING AND AN ARTICHOKE. [2]   \n108     food                  A CENTRE IN A TABLE.   \n109    rooms                                 ROOMS   \n\n                                              portrait  \n0    A kind in glass and a cousin, a spectacle and ...  \n1    Nickel, what is nickel, it is originally rid o...  \n2    The change of color is likely and a difference...  \n3    Out of kindness comes redness and out of ruden...  \n4    More of double.\\n\\nA place in no new table.\\n\\...  \n..                                                 ...  \n105  Go lack go lack use to her.\\n\\nCocoa and clear...  \n106  Please pale hot, please cover rose, please acr...  \n107  It was please it was please carriage cup in an...  \n108  It was a way a day, this made some sum. Suppos...  \n109  Act so that there is no use in a centre. A wid...  \n\n[110 rows x 3 columns]",
      "text/html": "<div>\n<style scoped>\n    .dataframe tbody tr th:only-of-type {\n        vertical-align: middle;\n    }\n\n    .dataframe tbody tr th {\n        vertical-align: top;\n    }\n\n    .dataframe thead th {\n        text-align: right;\n    }\n</style>\n<table border=\"1\" class=\"dataframe\">\n  <thead>\n    <tr style=\"text-align: right;\">\n      <th></th>\n      <th>category</th>\n      <th>title</th>\n      <th>portrait</th>\n    </tr>\n  </thead>\n  <tbody>\n    <tr>\n      <th>0</th>\n      <td>objects</td>\n      <td>A CARAFE, THAT IS A BLIND GLASS.</td>\n      <td>A kind in glass and a cousin, a spectacle and ...</td>\n    </tr>\n    <tr>\n      <th>1</th>\n      <td>objects</td>\n      <td>GLAZED GLITTER.</td>\n      <td>Nickel, what is nickel, it is originally rid o...</td>\n    </tr>\n    <tr>\n      <th>2</th>\n      <td>objects</td>\n      <td>A SUBSTANCE IN A CUSHION.</td>\n      <td>The change of color is likely and a difference...</td>\n    </tr>\n    <tr>\n      <th>3</th>\n      <td>objects</td>\n      <td>A BOX.</td>\n      <td>Out of kindness comes redness and out of ruden...</td>\n    </tr>\n    <tr>\n      <th>4</th>\n      <td>objects</td>\n      <td>A PIECE OF COFFEE.</td>\n      <td>More of double.\\n\\nA place in no new table.\\n\\...</td>\n    </tr>\n    <tr>\n      <th>...</th>\n      <td>...</td>\n      <td>...</td>\n      <td>...</td>\n    </tr>\n    <tr>\n      <th>105</th>\n      <td>food</td>\n      <td>ORANGE IN.</td>\n      <td>Go lack go lack use to her.\\n\\nCocoa and clear...</td>\n    </tr>\n    <tr>\n      <th>106</th>\n      <td>food</td>\n      <td>SALAD DRESSING AND AN ARTICHOKE.</td>\n      <td>Please pale hot, please cover rose, please acr...</td>\n    </tr>\n    <tr>\n      <th>107</th>\n      <td>food</td>\n      <td>SALAD DRESSING AND AN ARTICHOKE. [2]</td>\n      <td>It was please it was please carriage cup in an...</td>\n    </tr>\n    <tr>\n      <th>108</th>\n      <td>food</td>\n      <td>A CENTRE IN A TABLE.</td>\n      <td>It was a way a day, this made some sum. Suppos...</td>\n    </tr>\n    <tr>\n      <th>109</th>\n      <td>rooms</td>\n      <td>ROOMS</td>\n      <td>Act so that there is no use in a centre. A wid...</td>\n    </tr>\n  </tbody>\n</table>\n<p>110 rows × 3 columns</p>\n</div>"
     },
     "execution_count": 57,
     "metadata": {},
     "output_type": "execute_result"
    }
   ],
   "source": [
    "df"
   ],
   "metadata": {
    "collapsed": false,
    "ExecuteTime": {
     "end_time": "2024-03-30T20:30:53.859821Z",
     "start_time": "2024-03-30T20:30:53.851905Z"
    }
   },
   "id": "a4af5412a3447cc1",
   "execution_count": 57
  },
  {
   "cell_type": "code",
   "outputs": [],
   "source": [
    "# Write dataframe to csv\n",
    "df.to_csv(\"list.csv\", index=False)"
   ],
   "metadata": {
    "collapsed": false,
    "ExecuteTime": {
     "end_time": "2024-03-30T16:14:37.023494Z",
     "start_time": "2024-03-30T16:14:37.014836Z"
    }
   },
   "id": "43f62ccb7f651310",
   "execution_count": 28
  },
  {
   "cell_type": "code",
   "outputs": [
    {
     "name": "stdout",
     "output_type": "stream",
     "text": [
      "Requirement already satisfied: nltk in /Users/mderdun/anaconda3/lib/python3.11/site-packages (3.7)\r\n",
      "Collecting contractions\r\n",
      "  Downloading contractions-0.1.73-py2.py3-none-any.whl (8.7 kB)\r\n",
      "Requirement already satisfied: click in /Users/mderdun/anaconda3/lib/python3.11/site-packages (from nltk) (8.0.4)\r\n",
      "Requirement already satisfied: joblib in /Users/mderdun/anaconda3/lib/python3.11/site-packages (from nltk) (1.2.0)\r\n",
      "Requirement already satisfied: regex>=2021.8.3 in /Users/mderdun/anaconda3/lib/python3.11/site-packages (from nltk) (2022.7.9)\r\n",
      "Requirement already satisfied: tqdm in /Users/mderdun/anaconda3/lib/python3.11/site-packages (from nltk) (4.65.0)\r\n",
      "Collecting textsearch>=0.0.21 (from contractions)\r\n",
      "  Downloading textsearch-0.0.24-py2.py3-none-any.whl (7.6 kB)\r\n",
      "Collecting anyascii (from textsearch>=0.0.21->contractions)\r\n",
      "  Downloading anyascii-0.3.2-py3-none-any.whl (289 kB)\r\n",
      "\u001B[2K     \u001B[90m━━━━━━━━━━━━━━━━━━━━━━━━━━━━━━━━━━━━━━━\u001B[0m \u001B[32m289.9/289.9 kB\u001B[0m \u001B[31m2.0 MB/s\u001B[0m eta \u001B[36m0:00:00\u001B[0ma \u001B[36m0:00:01\u001B[0m\r\n",
      "\u001B[?25hCollecting pyahocorasick (from textsearch>=0.0.21->contractions)\r\n",
      "  Downloading pyahocorasick-2.1.0-cp311-cp311-macosx_10_9_universal2.whl (63 kB)\r\n",
      "\u001B[2K     \u001B[90m━━━━━━━━━━━━━━━━━━━━━━━━━━━━━━━━━━━━━━━━\u001B[0m \u001B[32m63.7/63.7 kB\u001B[0m \u001B[31m2.2 MB/s\u001B[0m eta \u001B[36m0:00:00\u001B[0m\r\n",
      "\u001B[?25hInstalling collected packages: pyahocorasick, anyascii, textsearch, contractions\r\n",
      "Successfully installed anyascii-0.3.2 contractions-0.1.73 pyahocorasick-2.1.0 textsearch-0.0.24\r\n",
      "Note: you may need to restart the kernel to use updated packages.\n"
     ]
    }
   ],
   "source": [
    "%pip install nltk contractions"
   ],
   "metadata": {
    "collapsed": false,
    "ExecuteTime": {
     "end_time": "2024-03-30T20:15:20.417Z",
     "start_time": "2024-03-30T20:15:12.838829Z"
    }
   },
   "id": "a7e24e15990bc564",
   "execution_count": 30
  },
  {
   "cell_type": "code",
   "outputs": [
    {
     "name": "stderr",
     "output_type": "stream",
     "text": [
      "[nltk_data] Downloading package stopwords to\n",
      "[nltk_data]     /Users/mderdun/nltk_data...\n",
      "[nltk_data]   Package stopwords is already up-to-date!\n",
      "[nltk_data] Downloading package wordnet to /Users/mderdun/nltk_data...\n",
      "[nltk_data]   Package wordnet is already up-to-date!\n",
      "[nltk_data] Downloading package omw-1.4 to /Users/mderdun/nltk_data...\n",
      "[nltk_data]   Package omw-1.4 is already up-to-date!\n"
     ]
    }
   ],
   "source": [
    "# Now we are going to create some word lists.\n",
    "# We need to clean the text first, removing punctuation and making everything lowercase.\n",
    "import nltk\n",
    "import re\n",
    "import contractions\n",
    "from nltk.tokenize import word_tokenize\n",
    "\n",
    "df_clean = df\n",
    "\n",
    "# Define a function to expand contractions\n",
    "def expand_contractions(text):\n",
    "    return contractions.fix(text)\n",
    "\n",
    "from nltk.corpus import stopwords\n",
    "from nltk.stem import PorterStemmer, WordNetLemmatizer\n",
    "\n",
    "nltk.download('stopwords')\n",
    "nltk.download('wordnet')\n",
    "nltk.download('omw-1.4')\n",
    "\n",
    "stop_words = set(stopwords.words('english'))\n",
    "stemmer = PorterStemmer()\n",
    "lemmatizer = WordNetLemmatizer()\n",
    "\n",
    "def preprocess_words(text):\n",
    "    # Convert to lowercase\n",
    "    text = text.lower()\n",
    "\n",
    "    # Expand contractions\n",
    "    text = expand_contractions(text)\n",
    "\n",
    "    # Remove punctuation\n",
    "    text = re.sub(r'[^\\w\\s]', '', text)\n",
    "\n",
    "    # Tokenize the text\n",
    "    words = word_tokenize(text)\n",
    "\n",
    "    # Remove stopwords\n",
    "    words = [word for word in words if word not in stop_words]\n",
    "\n",
    "    return words\n",
    "\n",
    "# Apply the preprocessing to the 'title' and 'portrait' columns\n",
    "df_clean['title'] = df_clean['title'].apply(preprocess_words)\n",
    "df_clean['portrait'] = df_clean['portrait'].apply(preprocess_words)"
   ],
   "metadata": {
    "collapsed": false,
    "ExecuteTime": {
     "end_time": "2024-03-30T20:30:58.100621Z",
     "start_time": "2024-03-30T20:30:58.044973Z"
    }
   },
   "id": "55f386783485a56d",
   "execution_count": 58
  },
  {
   "cell_type": "code",
   "outputs": [
    {
     "name": "stderr",
     "output_type": "stream",
     "text": [
      "[nltk_data] Downloading package stopwords to\n",
      "[nltk_data]     /Users/mderdun/nltk_data...\n",
      "[nltk_data]   Unzipping corpora/stopwords.zip.\n",
      "[nltk_data] Downloading package wordnet to /Users/mderdun/nltk_data...\n"
     ]
    },
    {
     "ename": "AttributeError",
     "evalue": "'list' object has no attribute 'lower'",
     "output_type": "error",
     "traceback": [
      "\u001B[0;31m---------------------------------------------------------------------------\u001B[0m",
      "\u001B[0;31mAttributeError\u001B[0m                            Traceback (most recent call last)",
      "Cell \u001B[0;32mIn[35], line 36\u001B[0m\n\u001B[1;32m     33\u001B[0m     \u001B[38;5;28;01mreturn\u001B[39;00m words\n\u001B[1;32m     35\u001B[0m \u001B[38;5;66;03m# Apply the preprocessing to the 'title' and 'portrait' columns\u001B[39;00m\n\u001B[0;32m---> 36\u001B[0m df_clean[\u001B[38;5;124m'\u001B[39m\u001B[38;5;124mtitle\u001B[39m\u001B[38;5;124m'\u001B[39m] \u001B[38;5;241m=\u001B[39m df_clean[\u001B[38;5;124m'\u001B[39m\u001B[38;5;124mtitle\u001B[39m\u001B[38;5;124m'\u001B[39m]\u001B[38;5;241m.\u001B[39mapply(preprocess_words)\n\u001B[1;32m     37\u001B[0m df_clean[\u001B[38;5;124m'\u001B[39m\u001B[38;5;124mportrait\u001B[39m\u001B[38;5;124m'\u001B[39m] \u001B[38;5;241m=\u001B[39m df_clean[\u001B[38;5;124m'\u001B[39m\u001B[38;5;124mportrait\u001B[39m\u001B[38;5;124m'\u001B[39m]\u001B[38;5;241m.\u001B[39mapply(preprocess_words)\n",
      "File \u001B[0;32m~/anaconda3/lib/python3.11/site-packages/pandas/core/series.py:4630\u001B[0m, in \u001B[0;36mSeries.apply\u001B[0;34m(self, func, convert_dtype, args, **kwargs)\u001B[0m\n\u001B[1;32m   4520\u001B[0m \u001B[38;5;28;01mdef\u001B[39;00m \u001B[38;5;21mapply\u001B[39m(\n\u001B[1;32m   4521\u001B[0m     \u001B[38;5;28mself\u001B[39m,\n\u001B[1;32m   4522\u001B[0m     func: AggFuncType,\n\u001B[0;32m   (...)\u001B[0m\n\u001B[1;32m   4525\u001B[0m     \u001B[38;5;241m*\u001B[39m\u001B[38;5;241m*\u001B[39mkwargs,\n\u001B[1;32m   4526\u001B[0m ) \u001B[38;5;241m-\u001B[39m\u001B[38;5;241m>\u001B[39m DataFrame \u001B[38;5;241m|\u001B[39m Series:\n\u001B[1;32m   4527\u001B[0m \u001B[38;5;250m    \u001B[39m\u001B[38;5;124;03m\"\"\"\u001B[39;00m\n\u001B[1;32m   4528\u001B[0m \u001B[38;5;124;03m    Invoke function on values of Series.\u001B[39;00m\n\u001B[1;32m   4529\u001B[0m \n\u001B[0;32m   (...)\u001B[0m\n\u001B[1;32m   4628\u001B[0m \u001B[38;5;124;03m    dtype: float64\u001B[39;00m\n\u001B[1;32m   4629\u001B[0m \u001B[38;5;124;03m    \"\"\"\u001B[39;00m\n\u001B[0;32m-> 4630\u001B[0m     \u001B[38;5;28;01mreturn\u001B[39;00m SeriesApply(\u001B[38;5;28mself\u001B[39m, func, convert_dtype, args, kwargs)\u001B[38;5;241m.\u001B[39mapply()\n",
      "File \u001B[0;32m~/anaconda3/lib/python3.11/site-packages/pandas/core/apply.py:1025\u001B[0m, in \u001B[0;36mSeriesApply.apply\u001B[0;34m(self)\u001B[0m\n\u001B[1;32m   1022\u001B[0m     \u001B[38;5;28;01mreturn\u001B[39;00m \u001B[38;5;28mself\u001B[39m\u001B[38;5;241m.\u001B[39mapply_str()\n\u001B[1;32m   1024\u001B[0m \u001B[38;5;66;03m# self.f is Callable\u001B[39;00m\n\u001B[0;32m-> 1025\u001B[0m \u001B[38;5;28;01mreturn\u001B[39;00m \u001B[38;5;28mself\u001B[39m\u001B[38;5;241m.\u001B[39mapply_standard()\n",
      "File \u001B[0;32m~/anaconda3/lib/python3.11/site-packages/pandas/core/apply.py:1076\u001B[0m, in \u001B[0;36mSeriesApply.apply_standard\u001B[0;34m(self)\u001B[0m\n\u001B[1;32m   1074\u001B[0m     \u001B[38;5;28;01melse\u001B[39;00m:\n\u001B[1;32m   1075\u001B[0m         values \u001B[38;5;241m=\u001B[39m obj\u001B[38;5;241m.\u001B[39mastype(\u001B[38;5;28mobject\u001B[39m)\u001B[38;5;241m.\u001B[39m_values\n\u001B[0;32m-> 1076\u001B[0m         mapped \u001B[38;5;241m=\u001B[39m lib\u001B[38;5;241m.\u001B[39mmap_infer(\n\u001B[1;32m   1077\u001B[0m             values,\n\u001B[1;32m   1078\u001B[0m             f,\n\u001B[1;32m   1079\u001B[0m             convert\u001B[38;5;241m=\u001B[39m\u001B[38;5;28mself\u001B[39m\u001B[38;5;241m.\u001B[39mconvert_dtype,\n\u001B[1;32m   1080\u001B[0m         )\n\u001B[1;32m   1082\u001B[0m \u001B[38;5;28;01mif\u001B[39;00m \u001B[38;5;28mlen\u001B[39m(mapped) \u001B[38;5;129;01mand\u001B[39;00m \u001B[38;5;28misinstance\u001B[39m(mapped[\u001B[38;5;241m0\u001B[39m], ABCSeries):\n\u001B[1;32m   1083\u001B[0m     \u001B[38;5;66;03m# GH#43986 Need to do list(mapped) in order to get treated as nested\u001B[39;00m\n\u001B[1;32m   1084\u001B[0m     \u001B[38;5;66;03m#  See also GH#25959 regarding EA support\u001B[39;00m\n\u001B[1;32m   1085\u001B[0m     \u001B[38;5;28;01mreturn\u001B[39;00m obj\u001B[38;5;241m.\u001B[39m_constructor_expanddim(\u001B[38;5;28mlist\u001B[39m(mapped), index\u001B[38;5;241m=\u001B[39mobj\u001B[38;5;241m.\u001B[39mindex)\n",
      "File \u001B[0;32m~/anaconda3/lib/python3.11/site-packages/pandas/_libs/lib.pyx:2834\u001B[0m, in \u001B[0;36mpandas._libs.lib.map_infer\u001B[0;34m()\u001B[0m\n",
      "Cell \u001B[0;32mIn[35], line 13\u001B[0m, in \u001B[0;36mpreprocess_words\u001B[0;34m(text)\u001B[0m\n\u001B[1;32m     11\u001B[0m \u001B[38;5;28;01mdef\u001B[39;00m \u001B[38;5;21mpreprocess_words\u001B[39m(text):\n\u001B[1;32m     12\u001B[0m     \u001B[38;5;66;03m# Convert to lowercase\u001B[39;00m\n\u001B[0;32m---> 13\u001B[0m     text \u001B[38;5;241m=\u001B[39m text\u001B[38;5;241m.\u001B[39mlower()\n\u001B[1;32m     15\u001B[0m     \u001B[38;5;66;03m# Expand contractions\u001B[39;00m\n\u001B[1;32m     16\u001B[0m     text \u001B[38;5;241m=\u001B[39m expand_contractions(text)\n",
      "\u001B[0;31mAttributeError\u001B[0m: 'list' object has no attribute 'lower'"
     ]
    }
   ],
   "source": [],
   "metadata": {
    "collapsed": false,
    "ExecuteTime": {
     "end_time": "2024-03-30T20:25:00.847800Z",
     "start_time": "2024-03-30T20:24:57.338197Z"
    }
   },
   "id": "f4200cf98837968",
   "execution_count": 35
  },
  {
   "cell_type": "code",
   "outputs": [
    {
     "data": {
      "text/plain": "    category                            title  \\\n0    objects           [carafe, blind, glass]   \n1    objects                [glazed, glitter]   \n2    objects             [substance, cushion]   \n3    objects                            [box]   \n4    objects                  [piece, coffee]   \n..       ...                              ...   \n105     food                         [orange]   \n106     food     [salad, dressing, artichoke]   \n107     food  [salad, dressing, artichoke, 2]   \n108     food                  [centre, table]   \n109    rooms                          [rooms]   \n\n                                              portrait  \n0    [kind, glass, cousin, spectacle, nothing, stra...  \n1    [nickel, nickel, originally, rid, cover, chang...  \n2    [change, color, likely, difference, little, di...  \n3    [kindness, comes, redness, rudeness, comes, ra...  \n4    [double, place, new, table, single, image, spl...  \n..                                                 ...  \n105  [go, lack, go, lack, use, cocoa, clear, soup, ...  \n106  [please, pale, hot, please, cover, rose, pleas...  \n107  [please, please, carriage, cup, icecream, icec...  \n108  [way, day, made, sum, suppose, cod, liver, cod...  \n109  [act, use, centre, wide, action, width, prepar...  \n\n[110 rows x 3 columns]",
      "text/html": "<div>\n<style scoped>\n    .dataframe tbody tr th:only-of-type {\n        vertical-align: middle;\n    }\n\n    .dataframe tbody tr th {\n        vertical-align: top;\n    }\n\n    .dataframe thead th {\n        text-align: right;\n    }\n</style>\n<table border=\"1\" class=\"dataframe\">\n  <thead>\n    <tr style=\"text-align: right;\">\n      <th></th>\n      <th>category</th>\n      <th>title</th>\n      <th>portrait</th>\n    </tr>\n  </thead>\n  <tbody>\n    <tr>\n      <th>0</th>\n      <td>objects</td>\n      <td>[carafe, blind, glass]</td>\n      <td>[kind, glass, cousin, spectacle, nothing, stra...</td>\n    </tr>\n    <tr>\n      <th>1</th>\n      <td>objects</td>\n      <td>[glazed, glitter]</td>\n      <td>[nickel, nickel, originally, rid, cover, chang...</td>\n    </tr>\n    <tr>\n      <th>2</th>\n      <td>objects</td>\n      <td>[substance, cushion]</td>\n      <td>[change, color, likely, difference, little, di...</td>\n    </tr>\n    <tr>\n      <th>3</th>\n      <td>objects</td>\n      <td>[box]</td>\n      <td>[kindness, comes, redness, rudeness, comes, ra...</td>\n    </tr>\n    <tr>\n      <th>4</th>\n      <td>objects</td>\n      <td>[piece, coffee]</td>\n      <td>[double, place, new, table, single, image, spl...</td>\n    </tr>\n    <tr>\n      <th>...</th>\n      <td>...</td>\n      <td>...</td>\n      <td>...</td>\n    </tr>\n    <tr>\n      <th>105</th>\n      <td>food</td>\n      <td>[orange]</td>\n      <td>[go, lack, go, lack, use, cocoa, clear, soup, ...</td>\n    </tr>\n    <tr>\n      <th>106</th>\n      <td>food</td>\n      <td>[salad, dressing, artichoke]</td>\n      <td>[please, pale, hot, please, cover, rose, pleas...</td>\n    </tr>\n    <tr>\n      <th>107</th>\n      <td>food</td>\n      <td>[salad, dressing, artichoke, 2]</td>\n      <td>[please, please, carriage, cup, icecream, icec...</td>\n    </tr>\n    <tr>\n      <th>108</th>\n      <td>food</td>\n      <td>[centre, table]</td>\n      <td>[way, day, made, sum, suppose, cod, liver, cod...</td>\n    </tr>\n    <tr>\n      <th>109</th>\n      <td>rooms</td>\n      <td>[rooms]</td>\n      <td>[act, use, centre, wide, action, width, prepar...</td>\n    </tr>\n  </tbody>\n</table>\n<p>110 rows × 3 columns</p>\n</div>"
     },
     "execution_count": 59,
     "metadata": {},
     "output_type": "execute_result"
    }
   ],
   "source": [
    "df_clean"
   ],
   "metadata": {
    "collapsed": false,
    "ExecuteTime": {
     "end_time": "2024-03-30T20:31:04.047023Z",
     "start_time": "2024-03-30T20:31:04.034348Z"
    }
   },
   "id": "3c29adbf94e3c468",
   "execution_count": 59
  },
  {
   "cell_type": "code",
   "outputs": [],
   "source": [
    "# Initialize a list to store the data\n",
    "data = []\n",
    "\n",
    "# Iterate over the existing DataFrame\n",
    "for index, row in df_clean.iterrows():\n",
    "    title_words = row['title']\n",
    "    portrait_words = row['portrait']\n",
    "\n",
    "    # Add title words to the data list\n",
    "    for word in title_words:\n",
    "        key = f\"{index}to\"  # Create the key\n",
    "        if any(d['word'] == word for d in data):\n",
    "            for d in data:\n",
    "                if d['word'] == word:\n",
    "                    if key not in d['appears_in']:\n",
    "                        d['appears_in'].append(key)\n",
    "        else:\n",
    "            data.append({'word': word, 'appears_in': [key]})\n",
    "\n",
    "    # Add portrait words to the data list\n",
    "    for word in portrait_words:\n",
    "        key = f\"{index}po\"  # Create the key\n",
    "        if any(d['word'] == word for d in data):\n",
    "            for d in data:\n",
    "                if d['word'] == word:\n",
    "                    if key not in d['appears_in']:\n",
    "                        d['appears_in'].append(key)\n",
    "        else:\n",
    "            data.append({'word': word, 'appears_in': [key]})\n",
    "\n",
    "# Convert the data list to a DataFrame\n",
    "word_df = pd.DataFrame(data)"
   ],
   "metadata": {
    "collapsed": false,
    "ExecuteTime": {
     "end_time": "2024-03-30T20:37:50.753475Z",
     "start_time": "2024-03-30T20:37:50.276985Z"
    }
   },
   "id": "ab45544cc9a116b9",
   "execution_count": 61
  },
  {
   "cell_type": "code",
   "outputs": [
    {
     "data": {
      "text/plain": "             word                                         appears_in\n0          carafe                                              [0to]\n1           blind                           [0to, 26po, 61po, 109po]\n2           glass          [0to, 0po, 11po, 47po, 59po, 80po, 109po]\n3            kind  [0po, 2po, 11po, 24po, 38po, 54po, 58po, 60po,...\n4          cousin                                              [0po]\n...           ...                                                ...\n2511    breathing                                            [109po]\n2512   incredible                                            [109po]\n2513      justice                                            [109po]\n2514  magnificent                                            [109po]\n2515     fountain                                            [109po]\n\n[2516 rows x 2 columns]",
      "text/html": "<div>\n<style scoped>\n    .dataframe tbody tr th:only-of-type {\n        vertical-align: middle;\n    }\n\n    .dataframe tbody tr th {\n        vertical-align: top;\n    }\n\n    .dataframe thead th {\n        text-align: right;\n    }\n</style>\n<table border=\"1\" class=\"dataframe\">\n  <thead>\n    <tr style=\"text-align: right;\">\n      <th></th>\n      <th>word</th>\n      <th>appears_in</th>\n    </tr>\n  </thead>\n  <tbody>\n    <tr>\n      <th>0</th>\n      <td>carafe</td>\n      <td>[0to]</td>\n    </tr>\n    <tr>\n      <th>1</th>\n      <td>blind</td>\n      <td>[0to, 26po, 61po, 109po]</td>\n    </tr>\n    <tr>\n      <th>2</th>\n      <td>glass</td>\n      <td>[0to, 0po, 11po, 47po, 59po, 80po, 109po]</td>\n    </tr>\n    <tr>\n      <th>3</th>\n      <td>kind</td>\n      <td>[0po, 2po, 11po, 24po, 38po, 54po, 58po, 60po,...</td>\n    </tr>\n    <tr>\n      <th>4</th>\n      <td>cousin</td>\n      <td>[0po]</td>\n    </tr>\n    <tr>\n      <th>...</th>\n      <td>...</td>\n      <td>...</td>\n    </tr>\n    <tr>\n      <th>2511</th>\n      <td>breathing</td>\n      <td>[109po]</td>\n    </tr>\n    <tr>\n      <th>2512</th>\n      <td>incredible</td>\n      <td>[109po]</td>\n    </tr>\n    <tr>\n      <th>2513</th>\n      <td>justice</td>\n      <td>[109po]</td>\n    </tr>\n    <tr>\n      <th>2514</th>\n      <td>magnificent</td>\n      <td>[109po]</td>\n    </tr>\n    <tr>\n      <th>2515</th>\n      <td>fountain</td>\n      <td>[109po]</td>\n    </tr>\n  </tbody>\n</table>\n<p>2516 rows × 2 columns</p>\n</div>"
     },
     "execution_count": 62,
     "metadata": {},
     "output_type": "execute_result"
    }
   ],
   "source": [
    "word_df"
   ],
   "metadata": {
    "collapsed": false,
    "ExecuteTime": {
     "end_time": "2024-03-30T20:37:56.031133Z",
     "start_time": "2024-03-30T20:37:56.023017Z"
    }
   },
   "id": "37d8b2769adc402f",
   "execution_count": 62
  },
  {
   "cell_type": "code",
   "outputs": [],
   "source": [
    "# Write the word DataFrame to a CSV file\n",
    "word_df.to_csv(\"words.csv\", index=False)"
   ],
   "metadata": {
    "collapsed": false,
    "ExecuteTime": {
     "end_time": "2024-03-30T20:42:48.910420Z",
     "start_time": "2024-03-30T20:42:48.891760Z"
    }
   },
   "id": "25ce1a458ca960cd",
   "execution_count": 63
  },
  {
   "cell_type": "code",
   "outputs": [],
   "source": [
    "# Copy all the words to clipboard\n",
    "word_df['word'].to_clipboard(index=False, header=False)"
   ],
   "metadata": {
    "collapsed": false,
    "ExecuteTime": {
     "end_time": "2024-03-30T20:43:49.440001Z",
     "start_time": "2024-03-30T20:43:48.892286Z"
    }
   },
   "id": "c1be10afd2dace76",
   "execution_count": 64
  },
  {
   "cell_type": "code",
   "outputs": [],
   "source": [
    "# Extract all the unique words in square brackets from word_edit.txt.\n",
    "# This is a list of words in capital letters that are not in the dictionary, followed by words in square brackets that are in the dictionary.\n",
    "with open('word_edit.txt', 'r') as file:\n",
    "    content = file.read()\n",
    "\n",
    "lowercase_content = content.lower()\n",
    "\n",
    "with open('word_edit.txt', 'w') as file:\n",
    "    file.write(lowercase_content)"
   ],
   "metadata": {
    "collapsed": false,
    "ExecuteTime": {
     "end_time": "2024-03-31T12:04:37.158749Z",
     "start_time": "2024-03-31T12:04:37.150376Z"
    }
   },
   "id": "17a0d03583f4a9c2",
   "execution_count": 68
  },
  {
   "cell_type": "code",
   "outputs": [],
   "source": [
    "import pandas as pd\n",
    "import re\n",
    "\n",
    "# Read the words.csv file into a DataFrame\n",
    "df = pd.read_csv('words.csv')\n",
    "\n",
    "# Open word_edit.txt and process each line\n",
    "with open('word_edit.txt', 'r') as file:\n",
    "    for line in file:\n",
    "        # Search for the unbracketed word and the bracketed word\n",
    "        match = re.search(r'(\\w+)\\s*\\[(\\w+)\\]', line)\n",
    "\n",
    "        # If a match was found\n",
    "        if match:\n",
    "            unbracketed_word, bracketed_word = match.groups()\n",
    "\n",
    "            # Find the row in the DataFrame that matches the unbracketed word\n",
    "            df.loc[df['word'] == unbracketed_word, 'word'] += f' [{bracketed_word}]'\n",
    "\n",
    "# Save the updated DataFrame back to words.csv\n",
    "df.to_csv('words.csv', index=False)"
   ],
   "metadata": {
    "collapsed": false,
    "ExecuteTime": {
     "end_time": "2024-03-31T12:14:01.414904Z",
     "start_time": "2024-03-31T12:14:01.219692Z"
    }
   },
   "id": "44ae91e907a71286",
   "execution_count": 71
  },
  {
   "cell_type": "code",
   "outputs": [],
   "source": [
    "# Load the CSV file into a DataFrame\n",
    "sm_norms = pd.read_csv('sensorimotor_norms.csv')\n",
    "words = pd.read_csv('words.csv')\n",
    "\n",
    "# Convert all string data to lowercase\n",
    "sm_norms = sm_norms.applymap(lambda s: s.lower() if type(s) == str else s)"
   ],
   "metadata": {
    "collapsed": false,
    "ExecuteTime": {
     "end_time": "2024-03-31T16:27:17.423041Z",
     "start_time": "2024-03-31T16:27:17.388687Z"
    }
   },
   "id": "b9f06f8da8a9f93",
   "execution_count": 73
  },
  {
   "cell_type": "code",
   "outputs": [],
   "source": [
    "# Save the updated DataFrame back to sensorimotor_norms.csv\n",
    "sm_norms.to_csv('sensorimotor_norms.csv', index=False)"
   ],
   "metadata": {
    "collapsed": false,
    "ExecuteTime": {
     "end_time": "2024-03-31T16:33:23.847162Z",
     "start_time": "2024-03-31T16:33:23.815320Z"
    }
   },
   "id": "847664e9989eaec3",
   "execution_count": 75
  },
  {
   "cell_type": "code",
   "outputs": [],
   "source": [
    "# Iterate over the 'Word' column in sm_norms\n",
    "for index, row in sm_norms.iterrows():\n",
    "    word = row['Word']\n",
    "    # Get all columns other than 'Word'\n",
    "    info_cols = row[sm_norms.columns.difference(['Word'])]\n",
    "\n",
    "    # Find the corresponding word in the 'words' DataFrame\n",
    "    # This could be either the unbracketed word or the word in square brackets\n",
    "    mask = words['word'].str.contains(rf'\\b{word}\\b', regex=True)\n",
    "\n",
    "    # Append all the information columns in sm_norms to the corresponding row in words\n",
    "    for col in info_cols.index:\n",
    "        if col not in words.columns:\n",
    "            words[col] = None\n",
    "        words.loc[mask, col] = info_cols[col]"
   ],
   "metadata": {
    "collapsed": false,
    "ExecuteTime": {
     "end_time": "2024-03-31T16:34:47.401358Z",
     "start_time": "2024-03-31T16:34:42.218979Z"
    }
   },
   "id": "a6cdc75a06509095",
   "execution_count": 76
  },
  {
   "cell_type": "code",
   "outputs": [],
   "source": [
    "# Save the updated DataFrame to new words_with_sm_norms.csv\n",
    "words.to_csv('words_with_sm_norms.csv', index=False)"
   ],
   "metadata": {
    "collapsed": false,
    "ExecuteTime": {
     "end_time": "2024-03-31T16:37:52.333713Z",
     "start_time": "2024-03-31T16:37:52.306147Z"
    }
   },
   "id": "ea5d5b2dc3d5951",
   "execution_count": 80
  },
  {
   "cell_type": "code",
   "outputs": [],
   "source": [],
   "metadata": {
    "collapsed": false
   },
   "id": "3ef7e8a8327b2f2a"
  }
 ],
 "metadata": {
  "kernelspec": {
   "display_name": "Python 3",
   "language": "python",
   "name": "python3"
  },
  "language_info": {
   "codemirror_mode": {
    "name": "ipython",
    "version": 2
   },
   "file_extension": ".py",
   "mimetype": "text/x-python",
   "name": "python",
   "nbconvert_exporter": "python",
   "pygments_lexer": "ipython2",
   "version": "2.7.6"
  }
 },
 "nbformat": 4,
 "nbformat_minor": 5
}
